{
 "cells": [
  {
   "cell_type": "code",
   "execution_count": 1,
   "metadata": {
    "collapsed": true
   },
   "outputs": [
    {
     "ename": "ModuleNotFoundError",
     "evalue": "No module named 'Compass.distribution'",
     "output_type": "error",
     "traceback": [
      "\u001B[0;31m---------------------------------------------------------------------------\u001B[0m",
      "\u001B[0;31mModuleNotFoundError\u001B[0m                       Traceback (most recent call last)",
      "\u001B[0;32m/var/folders/9h/zxjknhr917q09gsp6bbyrkqw0000gn/T/ipykernel_70324/733234782.py\u001B[0m in \u001B[0;36m<module>\u001B[0;34m\u001B[0m\n\u001B[1;32m     11\u001B[0m \u001B[0;32mimport\u001B[0m \u001B[0mcollections\u001B[0m\u001B[0;34m\u001B[0m\u001B[0;34m\u001B[0m\u001B[0m\n\u001B[1;32m     12\u001B[0m \u001B[0;32mimport\u001B[0m \u001B[0mos\u001B[0m\u001B[0;34m\u001B[0m\u001B[0;34m\u001B[0m\u001B[0m\n\u001B[0;32m---> 13\u001B[0;31m \u001B[0;32mfrom\u001B[0m \u001B[0mCompass\u001B[0m\u001B[0;34m.\u001B[0m\u001B[0mdistribution\u001B[0m\u001B[0;34m.\u001B[0m\u001B[0mdistribution\u001B[0m \u001B[0;32mimport\u001B[0m \u001B[0mmake_distribution_plot\u001B[0m\u001B[0;34m\u001B[0m\u001B[0;34m\u001B[0m\u001B[0m\n\u001B[0m\u001B[1;32m     14\u001B[0m \u001B[0mcolors\u001B[0m \u001B[0;34m=\u001B[0m \u001B[0;34m[\u001B[0m\u001B[0;34m'moccasin'\u001B[0m\u001B[0;34m,\u001B[0m\u001B[0;34m'aquamarine'\u001B[0m\u001B[0;34m,\u001B[0m\u001B[0;34m'#dbc2ec'\u001B[0m\u001B[0;34m,\u001B[0m\u001B[0;34m'orchid'\u001B[0m\u001B[0;34m,\u001B[0m\u001B[0;34m'lightskyblue'\u001B[0m\u001B[0;34m,\u001B[0m\u001B[0;34m'pink'\u001B[0m\u001B[0;34m,\u001B[0m\u001B[0;34m'orange'\u001B[0m\u001B[0;34m]\u001B[0m\u001B[0;34m\u001B[0m\u001B[0;34m\u001B[0m\u001B[0m\n\u001B[1;32m     15\u001B[0m \u001B[0mxlabels\u001B[0m \u001B[0;34m=\u001B[0m \u001B[0;34m[\u001B[0m\u001B[0;34m'A2C'\u001B[0m\u001B[0;34m,\u001B[0m\u001B[0;34m'PPO'\u001B[0m\u001B[0;34m,\u001B[0m\u001B[0;34m'SAC'\u001B[0m\u001B[0;34m,\u001B[0m\u001B[0;34m'SARL'\u001B[0m\u001B[0;34m,\u001B[0m\u001B[0;34m'DeepTrader'\u001B[0m\u001B[0;34m,\u001B[0m\u001B[0;34m\"AlphaMix+\"\u001B[0m\u001B[0;34m]\u001B[0m\u001B[0;34m\u001B[0m\u001B[0;34m\u001B[0m\u001B[0m\n",
      "\u001B[0;31mModuleNotFoundError\u001B[0m: No module named 'Compass.distribution'"
     ]
    }
   ],
   "source": [
    "import numpy as np\n",
    "import pandas as pd\n",
    "import matplotlib.pyplot as plt\n",
    "import scipy.stats\n",
    "from rliable import library as rly\n",
    "from rliable import metrics\n",
    "from rliable import plot_utils\n",
    "import seaborn as sns\n",
    "sns.set_style(\"white\")\n",
    "import matplotlib.patches as mpatches\n",
    "import collections\n",
    "import os\n",
    "from Compass.distribution.distribution import make_distribution_plot\n",
    "colors = ['moccasin','aquamarine','#dbc2ec','orchid','lightskyblue','pink','orange']\n",
    "xlabels = ['A2C','PPO','SAC','SARL','DeepTrader',\"AlphaMix+\"]\n",
    "color_idxs = [0, 1,2,3,4,5,6]\n",
    "ATARI_100K_COLOR_DICT = dict(zip(xlabels, [colors[idx] for idx in color_idxs]))\n",
    "from scipy.stats.stats import find_repeats\n",
    "xlabel=r'total return score $(\\tau)$',\n",
    "dict=tt_dict_crypto\n",
    "algorithms = ['A2C','PPO','SAC','SARL','DeepTrader',\"AlphaMix+\"]\n",
    "make_distribution_plot(dict,algorithms,2000,xlabel,\"./distribution\",ATARI_100K_COLOR_DICT)"
   ]
  },
  {
   "cell_type": "code",
   "execution_count": null,
   "outputs": [],
   "source": [],
   "metadata": {
    "collapsed": false,
    "pycharm": {
     "name": "#%%\n"
    }
   }
  }
 ],
 "metadata": {
  "kernelspec": {
   "display_name": "Python 3",
   "language": "python",
   "name": "python3"
  },
  "language_info": {
   "codemirror_mode": {
    "name": "ipython",
    "version": 2
   },
   "file_extension": ".py",
   "mimetype": "text/x-python",
   "name": "python",
   "nbconvert_exporter": "python",
   "pygments_lexer": "ipython2",
   "version": "2.7.6"
  }
 },
 "nbformat": 4,
 "nbformat_minor": 0
}