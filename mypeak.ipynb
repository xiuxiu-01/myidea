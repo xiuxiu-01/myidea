{
 "cells": [
  {
   "cell_type": "code",
   "execution_count": 16,
   "outputs": [
    {
     "name": "stdout",
     "output_type": "stream",
     "text": [
      "login success!\n",
      "           date       code       open       high        low      close  \\\n",
      "0    2018-01-02  sh.000905  6263.1500  6332.6080  6258.1560  6332.2260   \n",
      "1    2018-01-03  sh.000905  6331.7190  6391.9790  6324.2600  6388.2530   \n",
      "2    2018-01-04  sh.000905  6380.2660  6418.2560  6375.5130  6417.5350   \n",
      "3    2018-01-05  sh.000905  6414.7650  6435.8540  6397.2920  6417.2530   \n",
      "4    2018-01-08  sh.000905  6413.8730  6446.7870  6393.8810  6446.1810   \n",
      "..          ...        ...        ...        ...        ...        ...   \n",
      "968  2021-12-27  sh.000905  7269.3700  7323.8760  7255.7163  7272.7493   \n",
      "969  2021-12-28  sh.000905  7281.0041  7290.5389  7240.9278  7286.0336   \n",
      "970  2021-12-29  sh.000905  7275.6736  7290.8597  7242.3024  7247.7741   \n",
      "971  2021-12-30  sh.000905  7246.0313  7324.4981  7244.2221  7310.9600   \n",
      "972  2021-12-31  sh.000905  7320.9363  7368.1297  7317.7047  7359.4024   \n",
      "\n",
      "      preclose       volume             amount adjustflag      turn  \\\n",
      "0    6250.8200   7303223552   88153985024.0000          3  0.010982   \n",
      "1    6332.2260   8393674496  103454687232.0000          3  0.012621   \n",
      "2    6388.2530   8054369024  102929657856.0000          3  0.012110   \n",
      "3    6417.5350   8158101760   97642299392.0000          3  0.012266   \n",
      "4    6417.2530   8947692800  106389590016.0000          3  0.013419   \n",
      "..         ...          ...                ...        ...       ...   \n",
      "968  7278.7556  14861878900  165585648493.7000          3  1.320580   \n",
      "969  7272.7493  14326204000  164782846852.7000          3  1.272982   \n",
      "970  7286.0336  13620955200  155743984428.4000          3  1.210259   \n",
      "971  7247.7741  14165111100  158448274389.6000          3  1.258609   \n",
      "972  7310.9600  14990900300  169456916309.8000          3  1.331232   \n",
      "\n",
      "    tradestatus     pctChg isST  \n",
      "0             1   1.302300       \n",
      "1             1   0.884800       \n",
      "2             1   0.458400       \n",
      "3             1  -0.004400       \n",
      "4             1   0.450800       \n",
      "..          ...        ...  ...  \n",
      "968           1  -0.082518    0  \n",
      "969           1   0.182659    0  \n",
      "970           1  -0.525107    0  \n",
      "971           1   0.871797    0  \n",
      "972           1   0.662600    0  \n",
      "\n",
      "[973 rows x 14 columns]\n",
      "logout success!\n"
     ]
    },
    {
     "data": {
      "text/plain": "<baostock.data.resultset.ResultData at 0x7ff5319069a0>"
     },
     "execution_count": 16,
     "metadata": {},
     "output_type": "execute_result"
    }
   ],
   "source": [
    "import numpy as np\n",
    "import pandas as pd\n",
    "import matplotlib.pyplot as plt\n",
    "import baostock as bs\n",
    "lg = bs.login()\n",
    "filename = \"sh.000905\"\n",
    "rs = bs.query_history_k_data_plus(filename,\n",
    "    \"date,code,open,high,low,close,preclose,volume,amount,adjustflag,turn,tradestatus,pctChg,isST\",\n",
    "    start_date='2018-01-01',\n",
    "    end_date='2022-01-01',\n",
    "    frequency=\"d\", adjustflag=\"3\")\n",
    "data_list = []\n",
    "while (rs.error_code == '0') & rs.next():\n",
    "    # 获取一条记录，将记录合并在一起\n",
    "    data_list.append(rs.get_row_data())\n",
    "result = pd.DataFrame(data_list, columns=rs.fields)\n",
    "\n",
    "#### 结果集输出到csv文件 ####\n",
    "result.to_csv(filename+\".csv\", index=False)\n",
    "print(result)\n",
    "bs.logout()"
   ],
   "metadata": {
    "collapsed": false,
    "pycharm": {
     "name": "#%%\n"
    }
   }
  },
  {
   "cell_type": "code",
   "execution_count": 17,
   "outputs": [],
   "source": [
    "import numpy as np\n",
    "\n",
    "\n",
    "def get_peaks_troughs(h, rangesize):\n",
    "    peaks = list()\n",
    "    troughs = list()\n",
    "    S = 1\n",
    "    for x in range(1, len(h) - 5):\n",
    "        if S == 0:\n",
    "            if h[x] > 0.2*(h[x + 1]+h[x + 2]+h[x + 3]+h[x + 4]+h[x + 5]):\n",
    "                S = 1  ## down\n",
    "            else:\n",
    "                S = 2  ## up\n",
    "        elif S == 1:\n",
    "            if h[x] < 0.2*(h[x + 1]+h[x + 2]+h[x + 3]+h[x + 4]+h[x + 5]):\n",
    "                S = 2\n",
    "                ## from down to up\n",
    "                if len(troughs):\n",
    "                    ## check if need merge\n",
    "                    (prev_x, prev_trough) = troughs[-1]\n",
    "                    if x - prev_x < rangesize:\n",
    "                        if prev_trough > h[x]:\n",
    "                            troughs[-1] = (x, h[x])\n",
    "                    else:\n",
    "                        #if(len(peaks) and h[x]<peaks[-1]):\n",
    "                        troughs.append((x, h[x]))\n",
    "                else:\n",
    "\n",
    "                    troughs.append((x, h[x]))\n",
    "\n",
    "\n",
    "        elif S == 2:\n",
    "            if h[x] > 0.2*(h[x + 1]+h[x + 2]+h[x + 3]+h[x + 4]+h[x + 5]):\n",
    "                S = 1\n",
    "                ## from up to down\n",
    "                if len(peaks):\n",
    "                    prev_x, prev_peak = peaks[-1]\n",
    "                    if x - prev_x < rangesize:\n",
    "                        if prev_peak < h[x]:\n",
    "                            peaks[-1] = (x, h[x])\n",
    "                    else:\n",
    "                        #if(len(troughs) and h[x]>troughs[-1]):\n",
    "                        peaks.append((x, h[x]))\n",
    "                else:\n",
    "                    peaks.append((x, h[x]))\n",
    "\n",
    "    return peaks, troughs"
   ],
   "metadata": {
    "collapsed": false,
    "pycharm": {
     "name": "#%%\n"
    }
   }
  },
  {
   "cell_type": "code",
   "execution_count": 18,
   "outputs": [
    {
     "name": "stdout",
     "output_type": "stream",
     "text": [
      "login success!\n",
      "logout success!\n"
     ]
    }
   ],
   "source": [
    "import numpy as np\n",
    "from matplotlib import pyplot as plt\n",
    "import numpy as np\n",
    "import pandas as pd\n",
    "import matplotlib.pyplot as plt\n",
    "import baostock as bs\n",
    "\n",
    "lg = bs.login()\n",
    "filename = \"sh.600519\"\n",
    "rs = bs.query_history_k_data_plus(filename,\n",
    "                                  \"date,code,open,high,low,close,preclose,volume,amount,adjustflag,turn,tradestatus,pctChg,isST\",\n",
    "                                  start_date='2020-01-01',\n",
    "                                  end_date='2021-06-01',\n",
    "                                  frequency=\"d\", adjustflag=\"3\")\n",
    "data_list = []\n",
    "while (rs.error_code == '0') & rs.next():\n",
    "    # 获取一条记录，将记录合并在一起\n",
    "    data_list.append(rs.get_row_data())\n",
    "result = pd.DataFrame(data_list, columns=rs.fields)\n",
    "bs.logout()\n",
    "h=result['close'].values.astype(float)\n",
    "peaks, troughs = get_peaks_troughs(h, 10)"
   ],
   "metadata": {
    "collapsed": false,
    "pycharm": {
     "name": "#%%\n"
    }
   }
  },
  {
   "cell_type": "code",
   "execution_count": 19,
   "outputs": [
    {
     "name": "stdout",
     "output_type": "stream",
     "text": [
      "[(6, 1112.5), (22, 1098.0), (39, 1171.0), (101, 1425.0), (124, 1713.85), (138, 1680.0), (150, 1690.0), (160, 1786.5), (184, 1750.61), (204, 1742.57), (214, 1790.21), (235, 1881.0), (258, 2175.0), (269, 2456.43), (286, 2048.0), (302, 2162.0), (316, 2108.94), (329, 2057.96)] [(1, 1078.56), (16, 1003.92), (32, 1074.81), (48, 1007.99), (91, 1328.2), (107, 1383.0), (134, 1595.3), (144, 1631.0), (166, 1711.4), (178, 1629.32), (194, 1643.0), (208, 1705.0), (227, 1832.9), (253, 2063.0), (283, 1960.0), (293, 1989.99), (306, 2020.0), (323, 1903.0)]\n"
     ]
    }
   ],
   "source": [
    "print(peaks, troughs)"
   ],
   "metadata": {
    "collapsed": false,
    "pycharm": {
     "name": "#%%\n"
    }
   }
  },
  {
   "cell_type": "code",
   "execution_count": 20,
   "outputs": [
    {
     "name": "stderr",
     "output_type": "stream",
     "text": [
      "/var/folders/9h/zxjknhr917q09gsp6bbyrkqw0000gn/T/ipykernel_35111/3748005191.py:4: SettingWithCopyWarning: \n",
      "A value is trying to be set on a copy of a slice from a DataFrame\n",
      "\n",
      "See the caveats in the documentation: https://pandas.pydata.org/pandas-docs/stable/user_guide/indexing.html#returning-a-view-versus-a-copy\n",
      "  result['label'][x]=-1\n",
      "/var/folders/9h/zxjknhr917q09gsp6bbyrkqw0000gn/T/ipykernel_35111/3748005191.py:6: SettingWithCopyWarning: \n",
      "A value is trying to be set on a copy of a slice from a DataFrame\n",
      "\n",
      "See the caveats in the documentation: https://pandas.pydata.org/pandas-docs/stable/user_guide/indexing.html#returning-a-view-versus-a-copy\n",
      "  result['label'][x]=1\n"
     ]
    }
   ],
   "source": [
    "result.loc[:, 'label'] = 0\n",
    "result['label'].astype(float)\n",
    "for x, y in peaks:\n",
    "    result['label'][x]=-1\n",
    "for x, y in troughs:\n",
    "    result['label'][x]=1"
   ],
   "metadata": {
    "collapsed": false,
    "pycharm": {
     "name": "#%%\n"
    }
   }
  },
  {
   "cell_type": "code",
   "execution_count": 21,
   "outputs": [],
   "source": [
    "s=1\n",
    "for i in range(len(result['label'].values)):\n",
    "    if result['label'].values[i]==0:\n",
    "        pass\n",
    "    if result['label'].values[i]==1 and s==0:\n",
    "        result['label'].values[i]=0\n",
    "    elif result['label'].values[i]==-1 and s==1:\n",
    "        result['label'].values[i]=0\n",
    "    elif result['label'].values[i]==-1 and s==0:\n",
    "        s=1\n",
    "    elif result['label'].values[i]==1 and s==1:\n",
    "        s=0\n",
    "\n",
    "\n"
   ],
   "metadata": {
    "collapsed": false,
    "pycharm": {
     "name": "#%%\n"
    }
   }
  },
  {
   "cell_type": "code",
   "execution_count": 22,
   "outputs": [
    {
     "data": {
      "text/plain": "0      0\n1      1\n2      0\n3      0\n4      0\n      ..\n336    0\n337    0\n338    0\n339    0\n340    0\nName: label, Length: 341, dtype: int64"
     },
     "execution_count": 22,
     "metadata": {},
     "output_type": "execute_result"
    }
   ],
   "source": [
    "result['label']"
   ],
   "metadata": {
    "collapsed": false,
    "pycharm": {
     "name": "#%%\n"
    }
   }
  },
  {
   "cell_type": "code",
   "execution_count": 23,
   "outputs": [
    {
     "data": {
      "text/plain": "<Figure size 432x288 with 1 Axes>",
      "image/png": "[encoded data removed]"
     },
     "metadata": {
      "needs_background": "light"
     },
     "output_type": "display_data"
    }
   ],
   "source": [
    "h=result['close'].values.astype(float)\n",
    "peaks, troughs = get_peaks_troughs(h, 10)\n",
    "plt.plot(np.arange(len(h)), h)\n",
    "for i in range(len(result['label'].values)):\n",
    "    if result['label'].values[i]==1:\n",
    "        plt.text(i, h[i], 1, fontsize=10, verticalalignment=\"top\", horizontalalignment=\"center\")\n",
    "    elif result['label'].values[i]==-1:\n",
    "        plt.text(i, h[i], 0, fontsize=10, verticalalignment=\"top\", horizontalalignment=\"center\")\n",
    "\n",
    "plt.show()"
   ],
   "metadata": {
    "collapsed": false,
    "pycharm": {
     "name": "#%%\n"
    }
   }
  },
  {
   "cell_type": "code",
   "execution_count": 24,
   "outputs": [],
   "source": [
    "result.to_csv('peakthough.csv')"
   ],
   "metadata": {
    "collapsed": false,
    "pycharm": {
     "name": "#%%\n"
    }
   }
  },
  {
   "cell_type": "markdown",
   "source": [],
   "metadata": {
    "collapsed": false,
    "pycharm": {
     "name": "#%% md\n"
    }
   }
  }
 ],
 "metadata": {
  "kernelspec": {
   "display_name": "Python 3",
   "language": "python",
   "name": "python3"
  },
  "language_info": {
   "codemirror_mode": {
    "name": "ipython",
    "version": 2
   },
   "file_extension": ".py",
   "mimetype": "text/x-python",
   "name": "python",
   "nbconvert_exporter": "python",
   "pygments_lexer": "ipython2",
   "version": "2.7.6"
  }
 },
 "nbformat": 4,
 "nbformat_minor": 0
}